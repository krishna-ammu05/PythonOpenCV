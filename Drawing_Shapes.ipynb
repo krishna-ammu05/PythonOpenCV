{
 "cells": [
  {
   "cell_type": "markdown",
   "id": "8c663003",
   "metadata": {},
   "source": [
    "Drawing shapes and write on the images\n"
   ]
  },
  {
   "cell_type": "code",
   "execution_count": 1,
   "id": "21f1e742",
   "metadata": {},
   "outputs": [],
   "source": [
    "import cv2 as cv\n",
    "import numpy as np"
   ]
  },
  {
   "cell_type": "markdown",
   "id": "88a98bae",
   "metadata": {},
   "source": [
    "#### **Syntaxs**\n",
    "**Line**:cv2.line(img , pt1, pt2, color, thickness)\n",
    "\n",
    "**Rectangle**:cv2.rectangle(img,pt1,pt2,color,thickness)\n",
    "\n",
    "**Circle**:cv2.circle(img,center,radius,color,thickness)\n",
    "\n",
    "**Ellipse**:cv2.ellipse(img,center,axes,angle,startAngle,endAngle,color,thickness)\n",
    "\n",
    "**Polygon**:cv2.polyline(img,[pts],isClosed,color,thickness)\n",
    "\n",
    "**Filled Polygon**:cv2.fillpoly(img,[pts],color)\n",
    "\n",
    "**Arrowed Line**: cv2.arrowedLine(img,pt1,t2,color,thickness)\n",
    "\n",
    "**Marker**:cv2.drawMarker(img,position,color,markerType,markerSize,thickness)"
   ]
  },
  {
   "cell_type": "markdown",
   "id": "5fa86c1d",
   "metadata": {},
   "source": [
    "#### Drawing a line\n",
    "#### syntax: "
   ]
  },
  {
   "cell_type": "code",
   "execution_count": 2,
   "id": "8aba6737",
   "metadata": {},
   "outputs": [],
   "source": [
    "img = np.zeros((400,500,3),dtype=np.uint8)\n",
    "cv.imshow(\"image\",img)\n",
    "cv.line(img,(50,50),(450,50),(0,255,0),3)\n",
    "cv.imshow(\"Line\",img)\n",
    "cv.waitKey(0)\n",
    "cv.destroyAllWindows()"
   ]
  },
  {
   "cell_type": "markdown",
   "id": "fe02a22a",
   "metadata": {},
   "source": [
    "#### Drawing a Rectangle"
   ]
  },
  {
   "cell_type": "code",
   "execution_count": 3,
   "id": "8354d10a",
   "metadata": {},
   "outputs": [],
   "source": [
    "cv.rectangle(img,(50,80),(200,150),(255,0,0),2)\n",
    "cv.imshow(\"Rectangle\",img)\n",
    "cv.waitKey(0)\n",
    "cv.destroyAllWindows()"
   ]
  },
  {
   "cell_type": "markdown",
   "id": "10a1068c",
   "metadata": {},
   "source": [
    "#### Drwaing a circle"
   ]
  },
  {
   "cell_type": "code",
   "execution_count": 4,
   "id": "d5ca9d10",
   "metadata": {},
   "outputs": [],
   "source": [
    "cv.circle(img,(350,120),40,(0,0,255),-1)\n",
    "cv.imshow(\"Cirle\",img)\n",
    "cv.waitKey(0)\n",
    "cv.destroyAllWindows()"
   ]
  },
  {
   "cell_type": "markdown",
   "id": "b97926b1",
   "metadata": {},
   "source": [
    "#### Drawing a Ellipse"
   ]
  },
  {
   "cell_type": "code",
   "execution_count": 5,
   "id": "1b825df2",
   "metadata": {},
   "outputs": [],
   "source": [
    "cv.ellipse(img, (120, 250), (80, 40), 0, 0, 360, (0,255,255), 2)\n",
    "cv.imshow(\"Ellipse\",img)\n",
    "cv.waitKey(0)\n",
    "cv.destroyAllWindows()"
   ]
  },
  {
   "cell_type": "markdown",
   "id": "77201dfc",
   "metadata": {},
   "source": [
    "#### Drawing polygon"
   ]
  },
  {
   "cell_type": "code",
   "execution_count": 6,
   "id": "7d3914cb",
   "metadata": {},
   "outputs": [],
   "source": [
    "pts = np.array([[300,200],[400,200],[450,300],[350,350]], np.int32)\n",
    "pts = pts.reshape((-1,1,2))\n",
    "cv.polylines(img, [pts], True, (255,255,0), 2)\n",
    "cv.imshow(\"Ellipse\",img)\n",
    "cv.waitKey(0)\n",
    "cv.destroyAllWindows()"
   ]
  },
  {
   "cell_type": "markdown",
   "id": "413c8f44",
   "metadata": {},
   "source": [
    "#### Drawing a filled polygon"
   ]
  },
  {
   "cell_type": "code",
   "execution_count": 7,
   "id": "3939f892",
   "metadata": {},
   "outputs": [],
   "source": [
    "cv.fillPoly(img, [pts], (0,128,255))\n",
    "cv.imshow(\"Ellipse\",img)\n",
    "cv.waitKey(0)\n",
    "cv.destroyAllWindows()"
   ]
  },
  {
   "cell_type": "markdown",
   "id": "30fae485",
   "metadata": {},
   "source": [
    "#### Arrowed Line"
   ]
  },
  {
   "cell_type": "code",
   "execution_count": 8,
   "id": "2dbedf31",
   "metadata": {},
   "outputs": [],
   "source": [
    "cv.arrowedLine(img, (50, 200), (200, 200), (255, 0, 255), 3)\n",
    "cv.imshow(\"Ellipse\",img)\n",
    "cv.waitKey(0)\n",
    "cv.destroyAllWindows()"
   ]
  },
  {
   "cell_type": "markdown",
   "id": "23d89664",
   "metadata": {},
   "source": [
    "#### Draw a marker\n",
    "#### syntax: : cv2.drawMarker(img, position, color, markerType, markerSize, thickness)"
   ]
  },
  {
   "cell_type": "code",
   "execution_count": 9,
   "id": "03ff761e",
   "metadata": {},
   "outputs": [],
   "source": [
    "import cv2 as cv\n",
    "import numpy as np\n",
    "\n",
    "# Create a black image\n",
    "img = np.zeros((500,700,3), dtype=np.uint8)\n",
    "\n",
    "# List of markers and their names\n",
    "markers = [\n",
    "    (cv.MARKER_CROSS, \"CROSS\"),\n",
    "    (cv.MARKER_TILTED_CROSS, \"TILTED_CROSS\"),\n",
    "    (cv.MARKER_STAR, \"STAR\"),\n",
    "    (cv.MARKER_DIAMOND, \"DIAMOND\"),\n",
    "    (cv.MARKER_SQUARE, \"SQUARE\"),\n",
    "    (cv.MARKER_TRIANGLE_UP, \"TRIANGLE_UP\"),\n",
    "    (cv.MARKER_TRIANGLE_DOWN, \"TRIANGLE_DOWN\")\n",
    "]\n",
    "\n",
    "# Draw all markers with labels\n",
    "y = 60\n",
    "for marker, name in markers:\n",
    "    cv.drawMarker(img, (100, y), (0,255,0), marker, 40, 2)\n",
    "    cv.putText(img, name, (150, y+5), cv.FONT_HERSHEY_SIMPLEX, 0.7, (255,255,255), 2)\n",
    "    y += 60\n",
    "\n",
    "cv.imshow(\"All Markers\", img)\n",
    "cv.waitKey(0)\n",
    "cv.destroyAllWindows()\n"
   ]
  }
 ],
 "metadata": {
  "kernelspec": {
   "display_name": "Python 3",
   "language": "python",
   "name": "python3"
  },
  "language_info": {
   "codemirror_mode": {
    "name": "ipython",
    "version": 3
   },
   "file_extension": ".py",
   "mimetype": "text/x-python",
   "name": "python",
   "nbconvert_exporter": "python",
   "pygments_lexer": "ipython3",
   "version": "3.11.3"
  }
 },
 "nbformat": 4,
 "nbformat_minor": 5
}
