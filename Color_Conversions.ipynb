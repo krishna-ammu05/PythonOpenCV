{
 "cells": [
  {
   "cell_type": "markdown",
   "id": "a30f143e",
   "metadata": {},
   "source": [
    "#### Syntaxs\n",
    "cv.cvtColor(src, cv.COLOR_BGR2GRAY)\n",
    "\n",
    "cv.cvtColor(src, cv.COLOR_BGR2RGB)\n",
    "\n",
    "cv.cvtColor(src, cv.COLOR_BGR2HSV)\n",
    "\n",
    "cv.cvtColor(src, cv.COLOR_BGR2LAB)\n",
    "\n",
    "cv.cvtColor(src, cv.COLOR_BGR2YCrCb)\n",
    "\n",
    "cv.cvtColor(src, cv.COLOR_BGR2HLS)\n",
    "\n",
    "cv.cvtColor(src, cv.COLOR_BGR2XYZ)\n",
    "\n",
    "cv.cvtColor(src, cv.COLOR_BGR2LUV)\n",
    "\n",
    "cv.cvtColor(src, cv.COLOR_BGR2BGRA)   # add alpha channel\n"
   ]
  },
  {
   "cell_type": "code",
   "execution_count": 1,
   "id": "3fe8af7f",
   "metadata": {},
   "outputs": [],
   "source": [
    "import cv2 as cv\n",
    "import numpy as np"
   ]
  },
  {
   "cell_type": "code",
   "execution_count": 2,
   "id": "4172d3f2",
   "metadata": {},
   "outputs": [],
   "source": [
    "img = cv.imread(\"pictures/dog.jpg\")\n",
    "cv.imshow(\"Original\",img)"
   ]
  },
  {
   "cell_type": "code",
   "execution_count": 3,
   "id": "2998d346",
   "metadata": {},
   "outputs": [],
   "source": [
    "#cnvert differnt colors spaces a\n",
    "gray = cv.cvtColor(img, cv.COLOR_BGR2GRAY)\n",
    "rgb  = cv.cvtColor(img, cv.COLOR_BGR2RGB)\n",
    "hsv  = cv.cvtColor(img, cv.COLOR_BGR2HSV)\n",
    "lab  = cv.cvtColor(img, cv.COLOR_BGR2LAB)\n",
    "ycrcb = cv.cvtColor(img, cv.COLOR_BGR2YCrCb)\n",
    "HLS = cv.cvtColor(img, cv.COLOR_BGR2HLS)\n",
    "\n"
   ]
  },
  {
   "cell_type": "code",
   "execution_count": null,
   "id": "020fee6b",
   "metadata": {},
   "outputs": [],
   "source": [
    " #show results\n",
    "cv.imshow(\"Original - BGR\", img)\n",
    "cv.imshow(\"Gray\", gray)\n",
    "cv.imshow(\"RGB\", rgb)\n",
    "cv.imshow(\"HSV\", hsv)\n",
    "cv.imshow(\"LAB\", lab)\n",
    "cv.imshow(\"YCrCb\", ycrcb)\n",
    "cv.imshow(\"HLS\",HLS)\n",
    "\n",
    "cv.waitKey(0)\n",
    "cv.destroyAllWindows()\n"
   ]
  }
 ],
 "metadata": {
  "kernelspec": {
   "display_name": "Python 3",
   "language": "python",
   "name": "python3"
  },
  "language_info": {
   "codemirror_mode": {
    "name": "ipython",
    "version": 3
   },
   "file_extension": ".py",
   "mimetype": "text/x-python",
   "name": "python",
   "nbconvert_exporter": "python",
   "pygments_lexer": "ipython3",
   "version": "3.11.3"
  }
 },
 "nbformat": 4,
 "nbformat_minor": 5
}
